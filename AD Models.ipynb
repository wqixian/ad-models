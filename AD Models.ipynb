{
 "cells": [
  {
   "cell_type": "code",
   "execution_count": 1,
   "id": "6350dd5b",
   "metadata": {},
   "outputs": [],
   "source": [
    "# imports\n",
    "import numpy as np\n",
    "import pandas as pd\n",
    "import json\n",
    "from sklearn.ensemble import IsolationForest\n",
    "from sklearn.pipeline import Pipeline\n",
    "from sklearn2pmml import PMMLPipeline, sklearn2pmml\n",
    "from nyoka import skl_to_pmml\n",
    "from pypmml import Model\n",
    "import base64\n",
    "import matplotlib.pyplot as plt\n",
    "\n",
    "# setting a random state to get consistent results\n",
    "random_state = 7"
   ]
  },
  {
   "cell_type": "code",
   "execution_count": 2,
   "id": "3b66f7e0",
   "metadata": {},
   "outputs": [],
   "source": [
    "##############################################################################################\n",
    "################################### Helper Functions #########################################\n",
    "##############################################################################################\n",
    "# Save model to pmml file , convert model content to base64 encoded string"
   ]
  },
  {
   "cell_type": "code",
   "execution_count": 3,
   "id": "6d8c58ee",
   "metadata": {},
   "outputs": [],
   "source": [
    "# path for saving & retrieving models\n",
    "model_path = \"models/\"\n",
    "\n",
    "# create a pmml pipeline with a model and save it to file\n",
    "def save_to_pmml(model, algorithm, name, fit_pipeline=False, X=None, y=None, print_result=False):\n",
    "    # build the PMML pipeline\n",
    "    pmml_pipeline = PMMLPipeline([\n",
    "        (algorithm, model)\n",
    "    ])\n",
    "    \n",
    "    if (fit_pipeline):\n",
    "        if (y is None):\n",
    "            labels = pmml_pipeline.fit(X)\n",
    "        else:\n",
    "            labels = pmml_pipeline.fit(X, y)\n",
    "        if (print_result):\n",
    "            print(pmml_pipeline.predict(X))\n",
    "    \n",
    "    # convert into .pmml format and save\n",
    "    sklearn2pmml(pmml_pipeline, model_path + name)\n",
    "    \n",
    "# path for model content saved in text\n",
    "model_txt_path = \"../test_files/models_txt/\"\n",
    "    \n",
    "# convert simple model content into base64 encoded string so can be passed to ML plugin\n",
    "def pmml_to_base64(model_file, txt_file):\n",
    "    f = open(model_path + model_file)\n",
    "\n",
    "    content = f.read() # string\n",
    "    content_bytes = content.encode() # string of 8-bit bytes\n",
    "    content_base64 = base64.b64encode(content_bytes) # base64 encoded string\n",
    "\n",
    "    text_file = open(model_txt_path + txt_file, \"w\")\n",
    "    text_file.write(str(content_base64))\n",
    "    text_file.close()\n",
    "\n",
    "    f.close()"
   ]
  },
  {
   "cell_type": "code",
   "execution_count": null,
   "id": "308b11c8",
   "metadata": {},
   "outputs": [],
   "source": [
    "##############################################################################################\n",
    "########################## AD Model for sample host health data ##############################\n",
    "##############################################################################################\n",
    "# For final demo"
   ]
  },
  {
   "cell_type": "code",
   "execution_count": 5,
   "id": "b609fac6",
   "metadata": {},
   "outputs": [],
   "source": [
    "# pre-process training data to 10-min interval average values\n",
    "\n",
    "avg_cpu = []\n",
    "avg_memory = []\n",
    "interval = 10\n",
    "index = 0\n",
    "count = 0\n",
    "with open('hostHealth.json') as f:\n",
    "    for doc in f:\n",
    "        data = json.loads(doc)\n",
    "        cpu = data[\"cpu_usage_percentage\"]\n",
    "        memory = data[\"memory_usage_percentage\"]\n",
    "        if index == 0 and count == 0:\n",
    "            avg_cpu.append(cpu)\n",
    "            avg_memory.append(memory)\n",
    "            count += 1\n",
    "        elif count == interval:\n",
    "            avg_cpu.append(cpu)\n",
    "            avg_memory.append(memory)\n",
    "            index += 1\n",
    "            count = 1\n",
    "        else:\n",
    "            avg_cpu[index] += cpu\n",
    "            avg_memory[index] += memory\n",
    "            count += 1\n",
    "avg_cpu = [c / interval for c in avg_cpu]\n",
    "avg_memory = [m / interval for m in avg_memory]"
   ]
  },
  {
   "cell_type": "code",
   "execution_count": 8,
   "id": "d5ecfb53",
   "metadata": {},
   "outputs": [
    {
     "name": "stdout",
     "output_type": "stream",
     "text": [
      "4032\n",
      "[23.2, 29.9, 29.0, 26.2, 22.9]\n",
      "4032\n",
      "[42.0, 43.6, 41.7, 47.5, 51.3]\n"
     ]
    }
   ],
   "source": [
    "print(len(avg_cpu))\n",
    "print(avg_cpu[:5])\n",
    "print(len(avg_memory))\n",
    "print(avg_memory[:5])\n",
    "\n",
    "# 40320 raw points to 4032 10-min interval points\n",
    "data_len = 4032\n",
    "\n",
    "# training data\n",
    "data = []\n",
    "for i in range(data_len):\n",
    "    data.append([avg_cpu[i], avg_memory[i]])"
   ]
  },
  {
   "cell_type": "code",
   "execution_count": 29,
   "id": "e2413c0c",
   "metadata": {},
   "outputs": [],
   "source": [
    "model = IsolationForest(\n",
    "    n_estimators=30,\n",
    "    max_samples=0.75,\n",
    "    contamination=0.004,\n",
    "    max_features=2,\n",
    "    bootstrap=True,\n",
    "    random_state=random_state\n",
    ")\n",
    "\n",
    "data = np.array(data)\n",
    "model.fit(data)\n",
    "results = model.predict(data)"
   ]
  },
  {
   "cell_type": "code",
   "execution_count": 30,
   "id": "e46dc6fa",
   "metadata": {},
   "outputs": [
    {
     "name": "stdout",
     "output_type": "stream",
     "text": [
      "[[32.9 74.5]\n",
      " [66.  52.6]\n",
      " [76.3 55.9]\n",
      " [67.4 47.8]\n",
      " [73.4 54. ]\n",
      " [56.5 42.9]\n",
      " [35.2 80.3]\n",
      " [35.7 74.7]\n",
      " [64.2 51.9]\n",
      " [49.5 41.7]\n",
      " [30.9 78.4]\n",
      " [52.8 55.3]\n",
      " [49.3 43.1]\n",
      " [72.  47.3]\n",
      " [66.8 50. ]\n",
      " [77.7 51.3]\n",
      " [29.8 73.9]]\n"
     ]
    }
   ],
   "source": [
    "print(data[results == -1])"
   ]
  },
  {
   "cell_type": "code",
   "execution_count": 31,
   "id": "f78109a9",
   "metadata": {},
   "outputs": [
    {
     "data": {
      "image/png": "[encoded data removed]",
      "text/plain": [
       "<Figure size 864x864 with 1 Axes>"
      ]
     },
     "metadata": {
      "needs_background": "light"
     },
     "output_type": "display_data"
    }
   ],
   "source": [
    "inliers = data[results == 1]\n",
    "outliers = data[results == -1]\n",
    "\n",
    "plt.figure(figsize=(12,12))\n",
    "plt.scatter(*zip(*inliers))\n",
    "plt.scatter(*zip(*outliers))\n",
    "plt.title(\"anomaly detection result\")\n",
    "plt.xlabel(\"avg cpu usage\")\n",
    "plt.ylabel(\"avg memory usage\")\n",
    "plt.show()"
   ]
  },
  {
   "cell_type": "code",
   "execution_count": 32,
   "id": "c24403d9",
   "metadata": {},
   "outputs": [
    {
     "name": "stdout",
     "output_type": "stream",
     "text": [
      "[[23.2 42. ]\n",
      " [29.9 43.6]\n",
      " [29.  41.7]\n",
      " [26.2 47.5]\n",
      " [22.9 51.3]]\n",
      "[[0.19888064397537042, False], [0.2356930354567649, False], [0.20937303219833514, False], [0.2219987296415547, False], [0.2401945547446025, False]]\n"
     ]
    }
   ],
   "source": [
    "save_to_pmml(model, \"iforest\", \"if_hh.pmml\")\n",
    "\n",
    "pmml_to_base64(\"if_hh.pmml\", \"if_hh.txt\")\n",
    "\n",
    "model = Model.fromFile(model_path + \"if_hh.pmml\")\n",
    "results = model.predict(data)\n",
    "print(data[:5])\n",
    "print(results[:5])"
   ]
  },
  {
   "cell_type": "code",
   "execution_count": 9,
   "id": "3c7b50c9",
   "metadata": {},
   "outputs": [],
   "source": [
    "##############################################################################################\n",
    "########################## AD Model for sample e-commerce data ###############################\n",
    "##############################################################################################\n",
    "# For final demo"
   ]
  },
  {
   "cell_type": "code",
   "execution_count": 33,
   "id": "c002b397",
   "metadata": {},
   "outputs": [],
   "source": [
    "# pre-process training data to 10-min interval average values\n",
    "\n",
    "sum_failure = []\n",
    "avg_revenue = []\n",
    "interval = 10\n",
    "index = 0\n",
    "count = 0\n",
    "with open('ecommerce.json') as f:\n",
    "    for doc in f:\n",
    "        data = json.loads(doc)\n",
    "        failure = data[\"items_purchased_failure\"]\n",
    "        revenue = data[\"total_revenue_usd\"]\n",
    "        if index == 0 and count == 0:\n",
    "            sum_failure.append(failure)\n",
    "            avg_revenue.append(revenue)\n",
    "            count += 1\n",
    "        elif count == interval:\n",
    "            sum_failure.append(failure)\n",
    "            avg_revenue.append(revenue)\n",
    "            index += 1\n",
    "            count = 1\n",
    "        else:\n",
    "            sum_failure[index] += failure\n",
    "            avg_revenue[index] += revenue\n",
    "            count += 1\n",
    "avg_revenue = [r / interval for r in avg_revenue]"
   ]
  },
  {
   "cell_type": "code",
   "execution_count": 34,
   "id": "ae2c82f9",
   "metadata": {},
   "outputs": [
    {
     "name": "stdout",
     "output_type": "stream",
     "text": [
      "4032\n",
      "[0, 0, 0, 0, 0]\n",
      "4032\n",
      "[106.45, 136.47999999999996, 353.34600000000006, 196.29800000000003, 81.02400000000002]\n"
     ]
    }
   ],
   "source": [
    "print(len(sum_failure))\n",
    "print(sum_failure[:5])\n",
    "print(len(avg_revenue))\n",
    "print(avg_revenue[:5])\n",
    "data_len = 4032\n",
    "\n",
    "# training data\n",
    "data = []\n",
    "for i in range(data_len):\n",
    "    data.append([sum_failure[i], avg_revenue[i]])"
   ]
  },
  {
   "cell_type": "code",
   "execution_count": 38,
   "id": "001dceb9",
   "metadata": {},
   "outputs": [],
   "source": [
    "model = IsolationForest(\n",
    "    n_estimators=30,\n",
    "    max_samples=0.75,\n",
    "    contamination=0.004,\n",
    "    max_features=2,\n",
    "    bootstrap=True,\n",
    "    random_state=random_state\n",
    ")\n",
    "\n",
    "data = np.array(data)\n",
    "model.fit(data)\n",
    "results = model.predict(data)"
   ]
  },
  {
   "cell_type": "code",
   "execution_count": 39,
   "id": "d4154326",
   "metadata": {},
   "outputs": [
    {
     "name": "stdout",
     "output_type": "stream",
     "text": [
      "[[  14.      23.496]\n",
      " [   0.    1687.45 ]\n",
      " [   0.    1026.171]\n",
      " [  11.      53.574]\n",
      " [   9.      76.463]\n",
      " [  12.      43.979]\n",
      " [   7.      47.172]\n",
      " [   0.     456.964]\n",
      " [   5.      88.576]\n",
      " [  11.      39.157]\n",
      " [   0.     520.857]\n",
      " [   7.      24.278]\n",
      " [   5.      49.488]\n",
      " [   7.      37.328]\n",
      " [   7.      26.515]\n",
      " [   0.     540.212]\n",
      " [  11.      38.553]]\n"
     ]
    }
   ],
   "source": [
    "print(data[results == -1])"
   ]
  },
  {
   "cell_type": "code",
   "execution_count": 40,
   "id": "6953de6f",
   "metadata": {},
   "outputs": [
    {
     "data": {
      "image/png": "[encoded data removed]",
      "text/plain": [
       "<Figure size 864x864 with 1 Axes>"
      ]
     },
     "metadata": {
      "needs_background": "light"
     },
     "output_type": "display_data"
    }
   ],
   "source": [
    "inliers = data[results == 1]\n",
    "outliers = data[results == -1]\n",
    "\n",
    "plt.figure(figsize=(12,12))\n",
    "plt.scatter(*zip(*inliers))\n",
    "plt.scatter(*zip(*outliers))\n",
    "plt.title(\"anomaly detection result\")\n",
    "plt.xlabel(\"sum of failures\")\n",
    "plt.ylabel(\"average revenue\")\n",
    "plt.show()"
   ]
  },
  {
   "cell_type": "code",
   "execution_count": 41,
   "id": "786f9636",
   "metadata": {},
   "outputs": [
    {
     "name": "stdout",
     "output_type": "stream",
     "text": [
      "[[  0.    106.45 ]\n",
      " [  0.    136.48 ]\n",
      " [  0.    353.346]\n",
      " [  0.    196.298]\n",
      " [  0.     81.024]]\n",
      "[[0.3624312592887491, False], [0.35395942894480475, False], [0.09442362750957889, False], [0.3256406833095509, False], [0.35424826757141675, False]]\n"
     ]
    }
   ],
   "source": [
    "save_to_pmml(model, \"iforest\", \"if_ec.pmml\")\n",
    "\n",
    "pmml_to_base64(\"if_ec.pmml\", \"if_ec.txt\")\n",
    "\n",
    "model = Model.fromFile(model_path + \"if_ec.pmml\")\n",
    "results = model.predict(data)\n",
    "print(data[:5])\n",
    "print(results[:5])"
   ]
  },
  {
   "cell_type": "code",
   "execution_count": 11,
   "id": "db380dc7",
   "metadata": {},
   "outputs": [],
   "source": [
    "##############################################################################################\n",
    "################### AD Model for Randomly Generated Data with 2 Clusters######################\n",
    "##############################################################################################\n",
    "# For middle demo"
   ]
  },
  {
   "cell_type": "code",
   "execution_count": 36,
   "id": "56982b62",
   "metadata": {},
   "outputs": [],
   "source": [
    "# generate data\n",
    "\n",
    "from sklearn.datasets import make_blobs\n",
    "\n",
    "random_state = 7\n",
    "n_samples = 500\n",
    "outliers_fraction = 0.05\n",
    "n_outliers = int(outliers_fraction * n_samples)\n",
    "n_inliers = n_samples - n_outliers\n",
    "\n",
    "clustered_data = make_blobs(\n",
    "    centers=[[2, 2], [-2, -2]], \n",
    "    cluster_std=[1.5, .3], \n",
    "    random_state=random_state,\n",
    "    n_samples=n_inliers,\n",
    "    n_features=2\n",
    ")[0]\n",
    "\n",
    "random_data = np.random.RandomState(random_state).uniform(\n",
    "    low=-6, \n",
    "    high=6,\n",
    "    size=(n_outliers, 2)\n",
    ")\n",
    "\n",
    "data = np.vstack((clustered_data, random_data))"
   ]
  },
  {
   "cell_type": "code",
   "execution_count": 46,
   "id": "8d245a43",
   "metadata": {},
   "outputs": [
    {
     "data": {
      "image/png": "[encoded data removed]",
      "text/plain": [
       "<Figure size 864x864 with 1 Axes>"
      ]
     },
     "metadata": {
      "needs_background": "light"
     },
     "output_type": "display_data"
    }
   ],
   "source": [
    "plt.figure(figsize=(12,12))\n",
    "plt.scatter(*zip(*data))\n",
    "plt.title(\"randomly generated, 2d testing data\")\n",
    "plt.xlabel(\"feature 1\")\n",
    "plt.ylabel(\"feature 2\")\n",
    "plt.show()"
   ]
  },
  {
   "cell_type": "code",
   "execution_count": 47,
   "id": "0d834068",
   "metadata": {},
   "outputs": [],
   "source": [
    "# model\n",
    "model = IsolationForest(\n",
    "    n_estimators=50,\n",
    "    max_samples=0.5,\n",
    "    contamination=outliers_fraction,\n",
    "    max_features=2,\n",
    "    bootstrap=True,\n",
    "    random_state=random_state\n",
    ")\n",
    "\n",
    "data = np.concatenate([inliers, outliers], axis=0)\n",
    "\n",
    "model.fit(data)\n",
    "\n",
    "results = model.predict(data)"
   ]
  },
  {
   "cell_type": "code",
   "execution_count": 48,
   "id": "c0d5d76b",
   "metadata": {
    "scrolled": false
   },
   "outputs": [
    {
     "data": {
      "image/png": "[encoded data removed]",
      "text/plain": [
       "<Figure size 864x864 with 1 Axes>"
      ]
     },
     "metadata": {
      "needs_background": "light"
     },
     "output_type": "display_data"
    }
   ],
   "source": [
    "inliers = data[results == 1]\n",
    "outliers = data[results == -1]\n",
    "\n",
    "plt.figure(figsize=(12,12))\n",
    "plt.scatter(*zip(*inliers))\n",
    "plt.scatter(*zip(*outliers))\n",
    "plt.title(\"anomaly detection result\")\n",
    "plt.xlabel(\"feature 1\")\n",
    "plt.ylabel(\"feature 2\")\n",
    "plt.show()"
   ]
  },
  {
   "cell_type": "code",
   "execution_count": 16,
   "id": "8dedf79b",
   "metadata": {},
   "outputs": [],
   "source": [
    "save_to_pmml(model, \"iforest\", \"if_2d.pmml\")\n",
    "\n",
    "pmml_to_base64(\"if_2d.pmml\", \"if_2d.txt\")\n",
    "\n",
    "model = Model.fromFile(model_path + \"if_2d.pmml\")\n",
    "results = model.predict(data)\n",
    "# print(data[:10])\n",
    "# print(results[:10])"
   ]
  },
  {
   "cell_type": "code",
   "execution_count": 145,
   "id": "e50288c4",
   "metadata": {},
   "outputs": [],
   "source": [
    "##############################################################################################\n",
    "########## AD model for Machine Temperature System Failure data in NAB datasets ##############\n",
    "##############################################################################################\n",
    "# Shingling experiment. End up NOT using this shingled model"
   ]
  },
  {
   "cell_type": "code",
   "execution_count": 152,
   "id": "b02d1f56",
   "metadata": {},
   "outputs": [],
   "source": [
    "# read data\n",
    "MTSF = \"./NAB-master/data/realKnownCause/machine_temperature_system_failure.csv\"\n",
    "\n",
    "# for training and testing\n",
    "data = pd.read_csv(MTSF)\n",
    "\n",
    "# for graphing\n",
    "series = pd.read_csv(MTSF, header=0, index_col=0, parse_dates=True, squeeze=True)\n",
    "train_size_graph = int(series.shape[0] * 0.75)\n",
    "test_size_graph = series.shape[0] - train_size_graph"
   ]
  },
  {
   "cell_type": "code",
   "execution_count": 160,
   "id": "ce28e360",
   "metadata": {},
   "outputs": [
    {
     "data": {
      "image/png": "[encoded data removed]",
      "text/plain": [
       "<Figure size 1296x720 with 1 Axes>"
      ]
     },
     "metadata": {
      "needs_background": "light"
     },
     "output_type": "display_data"
    }
   ],
   "source": [
    "# graph of training data\n",
    "train_graph = series[:train_size_graph]\n",
    "\n",
    "plt.figure(figsize=(18,10))\n",
    "train_graph.plot()\n",
    "plt.title(\"training data\")\n",
    "plt.show()"
   ]
  },
  {
   "cell_type": "code",
   "execution_count": 161,
   "id": "118daa3a",
   "metadata": {},
   "outputs": [
    {
     "data": {
      "image/png": "[encoded data removed]",
      "text/plain": [
       "<Figure size 432x720 with 1 Axes>"
      ]
     },
     "metadata": {
      "needs_background": "light"
     },
     "output_type": "display_data"
    }
   ],
   "source": [
    "# graph of testing data\n",
    "test_graph = series[train_size_graph:]\n",
    "\n",
    "plt.figure(figsize=(6,10))\n",
    "test_graph.plot()\n",
    "plt.title(\"testing data\")\n",
    "plt.show()"
   ]
  },
  {
   "cell_type": "code",
   "execution_count": 177,
   "id": "94311f91",
   "metadata": {},
   "outputs": [],
   "source": [
    "# use the 'value' column\n",
    "X = np.array(data['value'], ndmin=2)\n",
    "dates = np.array(data['timestamp'], ndmin=2)\n",
    "X = X.T\n",
    "dates = dates.T\n",
    "\n",
    "# we start on 2013-12-03 00:00:00, and end on 2014-2-18 23:55:00\n",
    "X = X[33:22509]\n",
    "dates = dates[33:22509]\n",
    "\n",
    "# for later use, to find the anomaly dates\n",
    "dates_shingled = []\n",
    "\n",
    "# use shingling -> one data point for 1/3 hour. 1873 hours -> 5619 data points\n",
    "shingle_size = 12\n",
    "num_points = int(22476/shingle_size)\n",
    "X_shingled = []\n",
    "\n",
    "for i in range(num_points):\n",
    "    cur = []\n",
    "    for val in X[i*shingle_size:(i+1)*shingle_size]:\n",
    "        cur.append(val[0])\n",
    "    X_shingled.append(cur)\n",
    "    dates_shingled.append(dates[i*shingle_size])\n",
    "    \n",
    "total_size = len(X_shingled)"
   ]
  },
  {
   "cell_type": "code",
   "execution_count": 180,
   "id": "5868711e",
   "metadata": {
    "scrolled": false
   },
   "outputs": [
    {
     "name": "stdout",
     "output_type": "stream",
     "text": [
      "[327 328 329 330 568]\n",
      "[ 96 205 206 207 208 209 210 211 212 213 214 215 216 217 218 219 220 221\n",
      " 222 223 224 225 226 227 228 229 230 231 232 233 234 235 236 237 238 239\n",
      " 240]\n"
     ]
    }
   ],
   "source": [
    "# split training and testing data points\n",
    "# 5619 * 0.75 ~= 4214 for training. 5619 - 4214 = 1405 for testing\n",
    "train_size = int(total_size * 0.75)\n",
    "test_size = total_size - train_size\n",
    "\n",
    "# training\n",
    "model = IsolationForest(\n",
    "    n_estimators=20,\n",
    "    max_samples=0.8,\n",
    "    contamination=0.003,\n",
    "    max_features=shingle_size,\n",
    "    bootstrap=True,\n",
    "    random_state=7\n",
    ")\n",
    "model.fit(X_shingled[:train_size])\n",
    "\n",
    "# predict on training data\n",
    "train_labels = model.predict(X_shingled[:train_size])\n",
    "\n",
    "# predict on testing data\n",
    "test_labels = model.predict(X_shingled[train_size:])\n",
    "\n",
    "# check performance\n",
    "anomalies_1 = np.where(train_labels == -1)[0]\n",
    "print(anomalies_1)\n",
    "\n",
    "anomalies_2 = np.where(test_labels == -1)[0]\n",
    "print(anomalies_2)\n",
    "\n",
    "# indices = [0, 1, 6, 7, 14, 16, 17, 27]\n",
    "# for i in indices:\n",
    "#     print()\n",
    "#     print(X_shingled[anomalies[i]])\n",
    "#     print(dates_shingled[anomalies[i]])\n",
    "\n",
    "# for i in anomalies_1:\n",
    "#     print(1)\n",
    "#     print(X_shingled[i])\n",
    "#     print(dates_shingled[i])\n",
    "    \n",
    "# for i in anomalies_2:\n",
    "#     print(2)\n",
    "#     print(X_shingled[train_size+i])\n",
    "#     print(dates_shingled[train_size+i])"
   ]
  },
  {
   "cell_type": "code",
   "execution_count": 181,
   "id": "634835be",
   "metadata": {},
   "outputs": [],
   "source": [
    "##############################################################################################\n",
    "########## AD model for Machine Temperature System Failure data in NAB datasets ##############\n",
    "##############################################################################################\n",
    "# For middle demo, without shingling"
   ]
  },
  {
   "cell_type": "code",
   "execution_count": 184,
   "id": "1f9e3bd6",
   "metadata": {},
   "outputs": [],
   "source": [
    "# use the 'value' column\n",
    "X = np.array(data['value'], ndmin=2)\n",
    "dates = np.array(data['timestamp'], ndmin=2)\n",
    "X = X.T\n",
    "dates = dates.T\n",
    "\n",
    "total_size = len(X)"
   ]
  },
  {
   "cell_type": "code",
   "execution_count": 187,
   "id": "36ab3945",
   "metadata": {
    "scrolled": false
   },
   "outputs": [
    {
     "name": "stdout",
     "output_type": "stream",
     "text": [
      "[3971 3972 3973 3976 3977 3978 3979 3980 3981 3982 3983 3984 3985 3986\n",
      " 3987 6845 6846 6848]\n",
      "[2470 2473 2477 2479 2480 2481 2482 2483 2484 2485 2486 2487 2488 2489\n",
      " 2490 2491 2492 2493 2494 2495 2496 2497 2498 2499 2500 2501 2502 2503\n",
      " 2504 2505 2506 2508 2510]\n"
     ]
    }
   ],
   "source": [
    "# split training and testing data points\n",
    "train_size = int(total_size * 0.75)\n",
    "test_size = total_size - train_size\n",
    "\n",
    "# training\n",
    "model = IsolationForest(\n",
    "    n_estimators=20,\n",
    "    max_samples=0.8,\n",
    "    contamination=0.001,\n",
    "    max_features=1,\n",
    "    bootstrap=True,\n",
    "    random_state=7\n",
    ")\n",
    "model.fit(X[:train_size])\n",
    "\n",
    "# predict on training data\n",
    "train_labels = model.predict(X[:train_size])\n",
    "\n",
    "# predict on testing data\n",
    "test_labels = model.predict(X[train_size:])\n",
    "\n",
    "# check performance\n",
    "anomalies_1 = np.where(train_labels == -1)[0]\n",
    "print(anomalies_1)\n",
    "\n",
    "anomalies_2 = np.where(test_labels == -1)[0]\n",
    "print(anomalies_2)\n",
    "\n",
    "# for i in anomalies_1:\n",
    "#     print(1)\n",
    "#     print(X[i])\n",
    "#     print(dates[i])\n",
    "    \n",
    "# for i in anomalies_2:\n",
    "#     print(2)\n",
    "#     print(X[train_size+i])\n",
    "#     print(dates[train_size+i])"
   ]
  },
  {
   "cell_type": "code",
   "execution_count": 188,
   "id": "64f9ccc1",
   "metadata": {},
   "outputs": [],
   "source": [
    "save_to_pmml(model, \"iforest\", \"if_mt.pmml\")\n",
    "\n",
    "pmml_to_base64(\"if_mt.pmml\", \"if_mt.txt\")"
   ]
  },
  {
   "cell_type": "code",
   "execution_count": 6,
   "id": "c30547fe",
   "metadata": {},
   "outputs": [],
   "source": [
    "##############################################################################################\n",
    "######################################### Simple model #######################################\n",
    "##############################################################################################\n",
    "# For testing use"
   ]
  },
  {
   "cell_type": "code",
   "execution_count": 19,
   "id": "1586cf52",
   "metadata": {},
   "outputs": [
    {
     "name": "stdout",
     "output_type": "stream",
     "text": [
      "prediction:  [ 1  1 -1 -1]\n",
      "prediction:  [[0.06570586922851246, False], [0.09082283791718504, False], [-0.19946269094999458, True], [-0.19946269094999458, True]]\n"
     ]
    }
   ],
   "source": [
    "# generate dummy data\n",
    "X = np.array([[1], [2], [3], [1], [2]])\n",
    "\n",
    "# create, train the model\n",
    "model = IsolationForest(\n",
    "    n_estimators=5\n",
    ")\n",
    "model.fit(X)\n",
    "\n",
    "# original output\n",
    "og = model.predict(\n",
    "    [[1], [2], [10], [100]]\n",
    ")\n",
    "print('prediction: ', og)\n",
    "\n",
    "save_to_pmml(model, \"iforest\", \"if_simple.pmml\")\n",
    "\n",
    "# pulling the saved model\n",
    "model = Model.fromFile(model_path + model_name)\n",
    "\n",
    "# predicting on non-anomalous datapoints & anomalous datapoints\n",
    "result = model.predict(\n",
    "    [[1], [2], [10], [100]]\n",
    ")\n",
    "print('prediction: ', result)"
   ]
  },
  {
   "cell_type": "code",
   "execution_count": 9,
   "id": "65eb832e",
   "metadata": {
    "scrolled": false
   },
   "outputs": [],
   "source": [
    "pmml_to_base64(\"if_simple.pmml\", \"if_simple.txt\")"
   ]
  },
  {
   "cell_type": "code",
   "execution_count": 131,
   "id": "e8ee4396",
   "metadata": {},
   "outputs": [],
   "source": [
    "##############################################################################################\n",
    "######################################### AD model ###########################################\n",
    "##############################################################################################\n",
    "# For testing use"
   ]
  },
  {
   "cell_type": "code",
   "execution_count": 177,
   "id": "575348dd",
   "metadata": {},
   "outputs": [
    {
     "name": "stdout",
     "output_type": "stream",
     "text": [
      "[[51.846]\n",
      " [44.508]\n",
      " [41.244]\n",
      " [48.568]\n",
      " [46.714]\n",
      " [44.986]\n",
      " [49.108]\n",
      " [40.47 ]\n",
      " [53.404]\n",
      " [45.4  ]]\n",
      "[-1  1  1  1  1  1  1  1 -1  1]\n"
     ]
    }
   ],
   "source": [
    "data = pd.read_csv(\"./NAB-master/data/realAWSCloudwatch/ec2_cpu_utilization_5f5533.csv\")\n",
    "\n",
    "# grab the \"value\" column, and create the IF model\n",
    "X = np.array(data['value'], ndmin=2)\n",
    "X = X.T\n",
    "model = IsolationForest(\n",
    "    n_estimators=10,\n",
    "    max_samples=0.5,\n",
    "    contamination=0.1,\n",
    "    max_features=1,\n",
    "    bootstrap=True,\n",
    "    random_state=7\n",
    ")\n",
    "features = ['value']\n",
    "model.fit(X)\n",
    "labels = model.predict(X)\n",
    "print(X[:10])\n",
    "print(labels[:10])"
   ]
  },
  {
   "cell_type": "code",
   "execution_count": 157,
   "id": "e6085ad2",
   "metadata": {},
   "outputs": [],
   "source": [
    "save_to_pmml(model, \"iforest\", \"if_model.pmml\")"
   ]
  },
  {
   "cell_type": "code",
   "execution_count": 174,
   "id": "d283a625",
   "metadata": {},
   "outputs": [
    {
     "name": "stdout",
     "output_type": "stream",
     "text": [
      "[[51.846]\n",
      " [44.508]\n",
      " [41.244]\n",
      " [48.568]\n",
      " [46.714]\n",
      " [44.986]\n",
      " [49.108]\n",
      " [40.47 ]\n",
      " [53.404]\n",
      " [45.4  ]]\n",
      "[[-0.007643447317459362, True], [0.0636098347759037, False], [0.021092430437043674, False]]\n"
     ]
    }
   ],
   "source": [
    "# pull the saved model, predict on the training data\n",
    "model_fromFile = Model.fromFile(model_path + \"if_model.pmml\")\n",
    "model = model_fromFile\n",
    "labels = model.predict([[51], [44.5], [\"47\"]])\n",
    "print(X[:10])\n",
    "print(labels[:10])"
   ]
  },
  {
   "cell_type": "code",
   "execution_count": 175,
   "id": "554d19bb",
   "metadata": {},
   "outputs": [],
   "source": [
    "pmml_to_base64(\"if_model.pmml\", \"if_model.txt\")"
   ]
  },
  {
   "cell_type": "code",
   "execution_count": null,
   "id": "ae9c8b9d",
   "metadata": {},
   "outputs": [],
   "source": [
    "##############################################################################################\n",
    "################################# NYOKA package experiment ###################################\n",
    "##############################################################################################\n",
    "# For testing use"
   ]
  },
  {
   "cell_type": "code",
   "execution_count": 19,
   "id": "a8933b69",
   "metadata": {},
   "outputs": [
    {
     "name": "stdout",
     "output_type": "stream",
     "text": [
      "[[51.846]\n",
      " [44.508]\n",
      " [41.244]\n",
      " [48.568]\n",
      " [46.714]\n",
      " [44.986]\n",
      " [49.108]\n",
      " [40.47 ]\n",
      " [53.404]\n",
      " [45.4  ]]\n",
      "[-1  1  1  1  1  1  1  1 -1  1]\n"
     ]
    }
   ],
   "source": [
    "# grab the \"value\" column, and create the IF model\n",
    "X = np.array(data['value'], ndmin=2)\n",
    "X = X.T\n",
    "model = IsolationForest(\n",
    "    n_estimators=100,\n",
    "    max_samples=0.5,\n",
    "    contamination=0.1,\n",
    "    max_features=1,\n",
    "    bootstrap=True,\n",
    "    random_state=7\n",
    ")\n",
    "features = ['value']\n",
    "model.fit(X)\n",
    "labels = model.predict(X)\n",
    "print(X[:10])\n",
    "print(labels[:10])"
   ]
  },
  {
   "cell_type": "code",
   "execution_count": 20,
   "id": "48682b88",
   "metadata": {},
   "outputs": [],
   "source": [
    "# build the pipeline\n",
    "skl_pipeline = Pipeline([\n",
    "    (\"iforest\", model)\n",
    "])\n",
    "\n",
    "# convert into .pmml format and save\n",
    "skl_to_pmml(pipeline=skl_pipeline, col_names=['x1'], pmml_f_name=model_path + \"if_model_skl.pmml\")"
   ]
  },
  {
   "cell_type": "code",
   "execution_count": 21,
   "id": "2ec858f6",
   "metadata": {},
   "outputs": [],
   "source": [
    "pmml_to_base64(\"if_model_skl.pmml\", \"if_model_skl.txt\")"
   ]
  },
  {
   "cell_type": "code",
   "execution_count": 103,
   "id": "c7b6ea17",
   "metadata": {},
   "outputs": [],
   "source": [
    "##############################################################################################\n",
    "################################### Complex/large model ######################################\n",
    "##############################################################################################\n",
    "# For testing use"
   ]
  },
  {
   "cell_type": "code",
   "execution_count": 140,
   "id": "7b26ebba",
   "metadata": {},
   "outputs": [
    {
     "name": "stdout",
     "output_type": "stream",
     "text": [
      "[-1  1  1  1  1  1  1  1 -1  1]\n"
     ]
    }
   ],
   "source": [
    "# read data, filter out the \"value\" column, and create the IF model\n",
    "X = np.array(data['value'], ndmin=2)\n",
    "X = X.T\n",
    "model = IsolationForest(\n",
    "    n_estimators=100,\n",
    "    max_samples=0.5,\n",
    "    contamination=0.1,\n",
    "    max_features=1,\n",
    "    bootstrap=True,\n",
    "    random_state=7\n",
    ")\n",
    "features = ['value']\n",
    "model.fit(X)\n",
    "labels = model.predict(X)\n",
    "print(labels[:10])"
   ]
  },
  {
   "cell_type": "code",
   "execution_count": 141,
   "id": "c852eb6a",
   "metadata": {},
   "outputs": [],
   "source": [
    "save_to_pmml(model, \"iforest\", \"if_complex.pmml\")\n",
    "\n",
    "pmml_to_base64(\"if_complex.pmml\", \"if_complex.txt\")"
   ]
  },
  {
   "cell_type": "code",
   "execution_count": null,
   "id": "38b3425c",
   "metadata": {},
   "outputs": [],
   "source": [
    "##############################################################################################\n",
    "######################################### OCS model ##########################################\n",
    "##############################################################################################\n",
    "# For testing use"
   ]
  },
  {
   "cell_type": "code",
   "execution_count": 54,
   "id": "301cafc0",
   "metadata": {},
   "outputs": [
    {
     "name": "stdout",
     "output_type": "stream",
     "text": [
      "[ 1  1  1  1  1 -1 -1  1  1  1]\n"
     ]
    }
   ],
   "source": [
    "# Another sample model of AD specific algorithm\n",
    "from sklearn.svm import OneClassSVM\n",
    "\n",
    "ocs = OneClassSVM(\n",
    "    gamma='auto'\n",
    ")\n",
    "\n",
    "# generate dummy data\n",
    "X = np.array([[1], [2], [2.5], [1], [2], [6], [7], [2], [1], [2.5]])\n",
    "\n",
    "ocs.fit(X)\n",
    "labels = ocs.predict(X)\n",
    "print(labels[:10])"
   ]
  },
  {
   "cell_type": "code",
   "execution_count": 55,
   "id": "187221da",
   "metadata": {},
   "outputs": [],
   "source": [
    "save_to_pmml(ocs, \"oneClassSVM\", \"ocs.pmml\")"
   ]
  },
  {
   "cell_type": "code",
   "execution_count": 56,
   "id": "00c17aaf",
   "metadata": {},
   "outputs": [
    {
     "name": "stdout",
     "output_type": "stream",
     "text": [
      "[[5.069983322059102e-09, False], [0.061918124421274756, False], [5.07019470852299e-09, False], [5.069983322059102e-09, False], [0.061918124421274756, False], [-0.29021460628540074, True], [-0.290221781561681, True], [0.061918124421274756, False], [5.069983322059102e-09, False], [5.07019470852299e-09, False]]\n"
     ]
    }
   ],
   "source": [
    "ocs = Model.fromFile(model_path + \"ocs.pmml\")\n",
    "labels = ocs.predict(X)\n",
    "print(labels)"
   ]
  },
  {
   "cell_type": "code",
   "execution_count": 106,
   "id": "ea999b86",
   "metadata": {},
   "outputs": [],
   "source": [
    "##############################################################################################\n",
    "######################################### RFC model ##########################################\n",
    "##############################################################################################\n",
    "# For testing use"
   ]
  },
  {
   "cell_type": "code",
   "execution_count": 50,
   "id": "8f369c3a",
   "metadata": {},
   "outputs": [
    {
     "name": "stdout",
     "output_type": "stream",
     "text": [
      "[0 0 0 0 0 1 1 0 0 0]\n"
     ]
    }
   ],
   "source": [
    "# Sample model for non-AD specific algorithm\n",
    "from sklearn.ensemble import RandomForestClassifier\n",
    "\n",
    "rfc = RandomForestClassifier(\n",
    "    n_estimators=10,\n",
    "    max_samples=0.5,\n",
    "    max_features=1,\n",
    "    bootstrap=True,\n",
    "    random_state=7\n",
    ")\n",
    "\n",
    "# generate dummy data\n",
    "X = np.array([[1], [2], [3], [1], [2], [6], [7], [2], [1], [3]])\n",
    "y = np.array([0, 0, 0, 0, 0, 1, 1, 0, 0, 0])\n",
    "\n",
    "rfc.fit(X, y)\n",
    "labels = rfc.predict(X)\n",
    "print(labels[:10])"
   ]
  },
  {
   "cell_type": "code",
   "execution_count": 36,
   "id": "1bf80145",
   "metadata": {},
   "outputs": [],
   "source": [
    "save_to_pmml(rfc, \"randomForestClassifier\", \"rfc.pmml\")\n",
    "\n",
    "# save_to_pmml(rfc, \"randomForestClassifier\", \"rfc.pmml\", True, X, y, True)"
   ]
  },
  {
   "cell_type": "code",
   "execution_count": 40,
   "id": "4b091999",
   "metadata": {},
   "outputs": [
    {
     "name": "stdout",
     "output_type": "stream",
     "text": [
      "[[1.0, 0.0], [1.0, 0.0], [1.0, 0.0], [0.4, 0.6], [0.4, 0.6], [0.4, 0.6]]\n"
     ]
    }
   ],
   "source": [
    "rfc = Model.fromFile(model_path + \"rfc.pmml\")\n",
    "labels = rfc.predict(X)\n",
    "print(labels)"
   ]
  },
  {
   "cell_type": "code",
   "execution_count": null,
   "id": "76e460c6",
   "metadata": {},
   "outputs": [],
   "source": [
    "##############################################################################################\n",
    "######################################### KMeans model #######################################\n",
    "##############################################################################################\n",
    "# For testing use"
   ]
  },
  {
   "cell_type": "code",
   "execution_count": 42,
   "id": "e3a0a29d",
   "metadata": {},
   "outputs": [
    {
     "name": "stdout",
     "output_type": "stream",
     "text": [
      "[1 1 1 0 0 0]\n"
     ]
    }
   ],
   "source": [
    "# Sample model for non-AD specific algorithm\n",
    "from sklearn.cluster import KMeans\n",
    "\n",
    "kmeans = KMeans(\n",
    "    n_clusters=2,\n",
    "    random_state=7\n",
    ")\n",
    "\n",
    "# generate dummy data\n",
    "X = np.array([[1,1], [1,2], [2,1], [10,6], [9,7], [10,8]])\n",
    "\n",
    "kmeans.fit(X)\n",
    "labels = kmeans.predict(X)\n",
    "print(labels)"
   ]
  },
  {
   "cell_type": "code",
   "execution_count": 43,
   "id": "6e0be2be",
   "metadata": {},
   "outputs": [],
   "source": [
    "save_to_pmml(kmeans, \"KMeans\", \"kmeans.pmml\")"
   ]
  },
  {
   "cell_type": "code",
   "execution_count": 44,
   "id": "2a3bcfa1",
   "metadata": {},
   "outputs": [
    {
     "name": "stdout",
     "output_type": "stream",
     "text": [
      "[['1', 111.1111111111111, 0.22222222222222301], ['1', 100.1111111111111, 0.5555555555555551], ['1', 94.77777777777777, 0.5555555555555551], ['0', 1.1111111111111116, 96.88888888888887], ['0', 0.44444444444444364, 90.88888888888889], ['0', 1.1111111111111116, 119.55555555555554]]\n"
     ]
    }
   ],
   "source": [
    "kmeans = Model.fromFile(model_path + \"kmeans.pmml\")\n",
    "labels = kmeans.predict(X)\n",
    "print(labels)"
   ]
  },
  {
   "cell_type": "code",
   "execution_count": 90,
   "id": "661b0424",
   "metadata": {},
   "outputs": [],
   "source": [
    "##############################################################################################\n",
    "######################################### CSV to JSON ########################################\n",
    "##############################################################################################\n",
    "# For testing use: convert a dataset in csv to json"
   ]
  },
  {
   "cell_type": "code",
   "execution_count": 91,
   "id": "89ff7233",
   "metadata": {},
   "outputs": [],
   "source": [
    "# convert csv files to json format\n",
    "import csv, json\n",
    "\n",
    "csv_path = \"./NAB-master/data/realAWSCloudwatch/ec2_cpu_utilization_5f5533.csv\"\n",
    "json_path = \"../notes-test/test_data_NAB.json\"\n",
    "\n",
    "# read csv file and add to data\n",
    "data = {}\n",
    "with open(csv_path) as csv_file:\n",
    "    reader = csv.DictReader(csv_file)\n",
    "    for row in reader:\n",
    "        timestamp = row['timestamp']\n",
    "        data[timestamp] = row['value']\n",
    "\n",
    "# create new json file and write to it\n",
    "with open(json_path, 'w') as json_file:\n",
    "    json_file.write(json.dumps(data, indent=4))"
   ]
  }
 ],
 "metadata": {
  "kernelspec": {
   "display_name": "Python 3",
   "language": "python",
   "name": "python3"
  },
  "language_info": {
   "codemirror_mode": {
    "name": "ipython",
    "version": 3
   },
   "file_extension": ".py",
   "mimetype": "text/x-python",
   "name": "python",
   "nbconvert_exporter": "python",
   "pygments_lexer": "ipython3",
   "version": "3.7.6"
  }
 },
 "nbformat": 4,
 "nbformat_minor": 5
}
